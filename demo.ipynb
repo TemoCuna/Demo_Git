{
 "cells": [
  {
   "cell_type": "markdown",
   "id": "ed4d912f-1307-4efc-a832-b7eac940a767",
   "metadata": {},
   "source": [
    "## Git Demo"
   ]
  },
  {
   "cell_type": "code",
   "execution_count": null,
   "id": "dced4c0d-6b39-434b-bee0-9c24da4a3f22",
   "metadata": {},
   "outputs": [],
   "source": [
    "import numpy as np\n",
    "import pandas as pd"
   ]
  },
  {
   "cell_type": "code",
   "execution_count": 1,
   "id": "5d4f0292-56e4-4b0a-a0fd-4c7952ba51f2",
   "metadata": {},
   "outputs": [
    {
     "name": "stdout",
     "output_type": "stream",
     "text": [
      "Hello World\n"
     ]
    }
   ],
   "source": [
    "print(\"Hello World\")"
   ]
  },
  {
   "cell_type": "code",
   "execution_count": null,
   "id": "a2b27de6-bc2a-4533-8525-b21c6857a6c9",
   "metadata": {},
   "outputs": [],
   "source": []
  }
 ],
 "metadata": {
  "kernelspec": {
   "display_name": "Python 3 (ipykernel)",
   "language": "python",
   "name": "python3"
  },
  "language_info": {
   "codemirror_mode": {
    "name": "ipython",
    "version": 3
   },
   "file_extension": ".py",
   "mimetype": "text/x-python",
   "name": "python",
   "nbconvert_exporter": "python",
   "pygments_lexer": "ipython3",
   "version": "3.12.3"
  }
 },
 "nbformat": 4,
 "nbformat_minor": 5
}
